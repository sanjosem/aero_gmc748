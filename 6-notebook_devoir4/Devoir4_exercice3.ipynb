{
 "cells": [
  {
   "cell_type": "code",
   "execution_count": 1,
   "metadata": {},
   "outputs": [],
   "source": [
    "import numpy as np\n",
    "import matplotlib.pyplot as plt"
   ]
  },
  {
   "cell_type": "markdown",
   "metadata": {},
   "source": [
    "Dans un IPython notebook il faut rejouter les lignes suivantes pour pouvoir lire un module local. Ce n'est pas nécessaire dans un noyau IPython local ou dans Spyder par exemple..."
   ]
  },
  {
   "cell_type": "code",
   "execution_count": 2,
   "metadata": {},
   "outputs": [],
   "source": [
    "import sys\n",
    "import os\n",
    "dir_module = os.getcwd()\n",
    "sys.path.append(dir_module)"
   ]
  },
  {
   "cell_type": "code",
   "execution_count": 3,
   "metadata": {},
   "outputs": [],
   "source": [
    "import elementary_flows as ef"
   ]
  },
  {
   "cell_type": "markdown",
   "metadata": {},
   "source": [
    "On crée la grille de coordonnées spécifiées par l'énoncé sur le domaine $[-1,2]\\times[-0.5,0.5]$ avec 151 points dans chaque direction. On utilise `linspace`pour créer les tableaux 1D, et `meshgrid` pour créer les tableaux 2D. "
   ]
  },
  {
   "cell_type": "code",
   "execution_count": 4,
   "metadata": {},
   "outputs": [],
   "source": [
    "npts=151\n",
    "x = np.linspace(-1,2,npts)\n",
    "y = np.linspace(-0.5,0.5,npts)\n",
    "X,Y = np.meshgrid(x,y)"
   ]
  },
  {
   "cell_type": "markdown",
   "metadata": {},
   "source": [
    "On crée l'écoulement uniforme de vitesse $V_\\infty=1 \\ m/s$ grâce au module `elementary_flows` et sa classe dédiée `Uniform`. On calcule le champ de vitesse uniforme ainsi que la fonction de courant grâce aux fonctions de la classe sur la grille créée précédemment `X,Y`. "
   ]
  },
  {
   "cell_type": "code",
   "execution_count": 5,
   "metadata": {},
   "outputs": [],
   "source": [
    "# Uniform flow\n",
    "Vinf = 1.0\n",
    "uniform_flow = ef.Uniform(Vinf)\n",
    "# Compute velocity \n",
    "uniform_flow.velocity(X,Y)\n",
    "# Compute stream function \n",
    "uniform_flow.stream_function(X,Y)\n"
   ]
  },
  {
   "cell_type": "markdown",
   "metadata": {},
   "source": [
    "On lit le fichier contenant les coordonnées et l'intensité des sources pour l'exercice 3 "
   ]
  },
  {
   "cell_type": "code",
   "execution_count": 6,
   "metadata": {},
   "outputs": [],
   "source": [
    "xs,ys,source_strength = np.loadtxt('NACA0012_ex3.txt',skiprows=1,unpack=True)"
   ]
  },
  {
   "cell_type": "markdown",
   "metadata": {},
   "source": [
    "On crée les sources associées en utilisant la classe `Source` du module `elementary_flows`. On crée pour cela un tableau numpy, en précisant le type `object`, pour stocker les instances des sources. On calcule les champs de vitesse et de courant pour chaque source sur la grille `X,Y`."
   ]
  },
  {
   "cell_type": "code",
   "execution_count": 7,
   "metadata": {},
   "outputs": [],
   "source": [
    "N_sources = xs.size\n",
    "sources = np.empty((N_sources,),dtype='object')\n",
    "for i in range(N_sources):\n",
    "    sources[i] = ef.Source(source_strength[i],xs[i],ys[i])\n",
    "    sources[i].velocity(X,Y)\n",
    "    sources[i].stream_function(X,Y)"
   ]
  },
  {
   "cell_type": "markdown",
   "metadata": {},
   "source": [
    "On applique maintenant le principe de superposition. En sommant dans les tableaux `U`, `V` et `PSI` la somme de ces mêmes champs pour chaque écoulement élémentaire."
   ]
  },
  {
   "cell_type": "code",
   "execution_count": 8,
   "metadata": {},
   "outputs": [],
   "source": [
    "U = (uniform_flow.u).copy()\n",
    "V = (uniform_flow.v).copy()\n",
    "PSI = (uniform_flow.psi).copy()\n",
    "\n",
    "for si in sources:\n",
    "    U += si.u\n",
    "    V += si.v\n",
    "    PSI += si.psi"
   ]
  },
  {
   "cell_type": "markdown",
   "metadata": {},
   "source": [
    "On calcule le champ de la norme de vitesse de la superposition. "
   ]
  },
  {
   "cell_type": "code",
   "execution_count": 9,
   "metadata": {},
   "outputs": [],
   "source": [
    "Vmag =  np.sqrt( U**2 + V**2 )"
   ]
  },
  {
   "cell_type": "markdown",
   "metadata": {},
   "source": [
    "On applique le théorème de Bernoulli selon sa forme *forte* car chaque écoulement élémentaire respecte les hypothèses suivantes : \n",
    "* Écoulement de fluide parfait\n",
    "* Écoulement incompressible\n",
    "* Écoulement irrotationnel\n",
    "* Écoulement en régime permanent\n",
    "* Forces extérieures négligées (les effets aérodynamiques sont prépondérant sur l'écoulement)\n",
    "\n",
    "Ainsi en l'exprimant entre l'infini amont et tout pour du domaine, on peut écrire : \n",
    "$$p_\\infty + \\frac{1}{2}\\rho V^2_\\infty = p + \\frac{1}{2}\\rho V^2 $$\n",
    "On en déduit l'expression du coefficient de pression en tout point de l'écoulement :\n",
    "$$ C_p = \\frac{p-p_\\infty}{\\frac{1}{2}\\rho V^2_\\infty} = 1 - \\frac{V^2}{V^2_\\infty} $$"
   ]
  },
  {
   "cell_type": "code",
   "execution_count": 10,
   "metadata": {},
   "outputs": [],
   "source": [
    "Cp = 1 - Vmag**2 / Vinf**2"
   ]
  },
  {
   "cell_type": "markdown",
   "metadata": {},
   "source": [
    "On fait les tracés demandés : cartographies de vitesse et de coefficient de pression. On utilise la fonction `contourf`."
   ]
  },
  {
   "cell_type": "code",
   "execution_count": 11,
   "metadata": {},
   "outputs": [
    {
     "data": {
      "image/png": "[encoded data removed]",
      "text/plain": [
       "<matplotlib.figure.Figure at 0x7f822896d4a8>"
      ]
     },
     "metadata": {},
     "output_type": "display_data"
    }
   ],
   "source": [
    "plt.contourf(X,Y,Vmag,50,cmap='jet');\n",
    "plt.plot(xs,ys,linewidth=1.5,color='red')\n",
    "plt.xlabel('x');\n",
    "plt.ylabel('y');\n",
    "plt.colorbar();\n",
    "plt.axis('image')\n",
    "plt.title('Norme de la vitesse');"
   ]
  },
  {
   "cell_type": "code",
   "execution_count": 12,
   "metadata": {},
   "outputs": [
    {
     "data": {
      "image/png": "[encoded data removed]",
      "text/plain": [
       "<matplotlib.figure.Figure at 0x7f82267b47f0>"
      ]
     },
     "metadata": {},
     "output_type": "display_data"
    }
   ],
   "source": [
    "plt.contourf(X,Y,Cp,50,cmap='jet');\n",
    "plt.plot(xs,ys,linewidth=1.5,color='red')\n",
    "plt.xlabel('x');\n",
    "plt.ylabel('y');\n",
    "plt.colorbar();\n",
    "plt.axis('image')\n",
    "plt.title('Coefficient de pression');"
   ]
  },
  {
   "cell_type": "markdown",
   "metadata": {},
   "source": [
    "On constate que comme pour l'écoulement autour du cylindre sans circulation, les maximum de vitesse sont de part et d'autre du profil et correspondent à des déficits de pression. Le minimum  de vitesse apparait au bord d'attaque et au bord de fuite où le coefficient de pression atteint 1. Il s'agit de points d'arrêt. Le champ de pression est identique dessous et dessus le profil, ainsi comme le profil est symétrique les intégrales de force de pression seront nulles. Il n'y a pas de portance générée sur un profil symétrique sans incidence. C'est ce qui est également observé expérimentalement.\n",
    "\n",
    "On ne peut pas aller directement chercher les valeurs sur les points des sources car l'écoulement correspond à une singularité. On peut essayer d'aller chercher les points médians entre chaque paire de source. "
   ]
  },
  {
   "cell_type": "code",
   "execution_count": 13,
   "metadata": {},
   "outputs": [],
   "source": [
    "xm = 0.5*(xs[1:]+xs[:-1])\n",
    "ym = 0.5*(ys[1:]+ys[:-1])"
   ]
  },
  {
   "cell_type": "markdown",
   "metadata": {},
   "source": [
    "On réévalue les écoulements élémentaires sur ces coordonnées"
   ]
  },
  {
   "cell_type": "code",
   "execution_count": 14,
   "metadata": {},
   "outputs": [],
   "source": [
    "uniform_flow.velocity(xm,ym)\n",
    "for i in range(N_sources):\n",
    "    sources[i].velocity(xm,ym)\n",
    "Um = (uniform_flow.u).copy()\n",
    "Vm = (uniform_flow.v).copy()\n",
    "\n",
    "for si in sources:\n",
    "    Um += si.u\n",
    "    Vm += si.v\n",
    "Vmag_m =  np.sqrt( Um**2 + Vm**2 )\n",
    "Cpm = 1 - Vmag_m**2 / Vinf**2"
   ]
  },
  {
   "cell_type": "markdown",
   "metadata": {},
   "source": [
    "On peut alors faire le tracé du coefficient de pression sur le profil, en tout cas entre les sources. \n",
    "\n",
    "Pour savoir si cela a du sens, le coefficient de pression a été calculé avec `xfoil` pour le  NACA0012, en non-visqueux et à une incidence nulle. Le résultat a été exporté dans le fichier `CP_NACA0012_XFOIL_IVISC.TXT`."
   ]
  },
  {
   "cell_type": "code",
   "execution_count": 15,
   "metadata": {},
   "outputs": [],
   "source": [
    "x_xfoil,Cp_xfoil = np.loadtxt('CP_NACA0012_XFOIL_IVISC.TXT',skiprows=1,unpack=True)"
   ]
  },
  {
   "cell_type": "code",
   "execution_count": 19,
   "metadata": {},
   "outputs": [
    {
     "data": {
      "image/png": "[encoded data removed]",
      "text/plain": [
       "<matplotlib.figure.Figure at 0x7f82264b2a90>"
      ]
     },
     "metadata": {},
     "output_type": "display_data"
    }
   ],
   "source": [
    "plt.plot(xm,-Cpm,'o-',label='singular sources');\n",
    "plt.plot(x_xfoil,-Cp_xfoil,'--',label='Xfoil');\n",
    "plt.xlabel('x');\n",
    "plt.ylabel('-$C_p$');\n",
    "plt.legend()\n",
    "plt.title('Coefficient de pression sur le profil');"
   ]
  },
  {
   "cell_type": "markdown",
   "metadata": {},
   "source": [
    "Il s'avère que c'est plutôt pas mal comme distribution de pression, sauf proche du bord de fuite"
   ]
  }
 ],
 "metadata": {
  "kernelspec": {
   "display_name": "Python 3.6",
   "language": "python",
   "name": "python_3.6"
  },
  "language_info": {
   "codemirror_mode": {
    "name": "ipython",
    "version": 3
   },
   "file_extension": ".py",
   "mimetype": "text/x-python",
   "name": "python",
   "nbconvert_exporter": "python",
   "pygments_lexer": "ipython3",
   "version": "3.6.5"
  }
 },
 "nbformat": 4,
 "nbformat_minor": 2
}
