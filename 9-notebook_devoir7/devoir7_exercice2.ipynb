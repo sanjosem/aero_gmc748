{
 "cells": [
  {
   "cell_type": "markdown",
   "metadata": {},
   "source": [
    "# Exercice 2"
   ]
  },
  {
   "cell_type": "code",
   "execution_count": 1,
   "metadata": {},
   "outputs": [],
   "source": [
    "import numpy as np"
   ]
  },
  {
   "cell_type": "code",
   "execution_count": 2,
   "metadata": {},
   "outputs": [
    {
     "name": "stdout",
     "output_type": "stream",
     "text": [
      "cl(5deg) = 0.548\n"
     ]
    }
   ],
   "source": [
    "cl = 2 * np.pi * np.deg2rad(5)\n",
    "print('cl(5deg) = {0:.3f}'.format(cl))"
   ]
  },
  {
   "cell_type": "code",
   "execution_count": 3,
   "metadata": {},
   "outputs": [
    {
     "name": "stdout",
     "output_type": "stream",
     "text": [
      "Au bord d attaque : cm(5deg) = -0.137\n"
     ]
    }
   ],
   "source": [
    "cm0 = - cl/4\n",
    "print('Au bord d attaque : cm(5deg) = {0:.3f}'.format(cm0))"
   ]
  },
  {
   "cell_type": "code",
   "execution_count": 4,
   "metadata": {},
   "outputs": [
    {
     "name": "stdout",
     "output_type": "stream",
     "text": [
      "Au quart de corde : cm(5deg) = 0.000\n"
     ]
    }
   ],
   "source": [
    "cmc4 = cm0 + cl/4\n",
    "print('Au quart de corde : cm(5deg) = {0:.3f}'.format(cmc4))"
   ]
  },
  {
   "cell_type": "code",
   "execution_count": 5,
   "metadata": {},
   "outputs": [
    {
     "name": "stdout",
     "output_type": "stream",
     "text": [
      "Au bord de fuite : cm(5deg) = 0.411\n"
     ]
    }
   ],
   "source": [
    "cmTE = cm0 + cl\n",
    "print('Au bord de fuite : cm(5deg) = {0:.3f}'.format(cmTE))"
   ]
  }
 ],
 "metadata": {
  "kernelspec": {
   "display_name": "Python 3",
   "language": "python",
   "name": "python3"
  },
  "language_info": {
   "codemirror_mode": {
    "name": "ipython",
    "version": 3
   },
   "file_extension": ".py",
   "mimetype": "text/x-python",
   "name": "python",
   "nbconvert_exporter": "python",
   "pygments_lexer": "ipython3",
   "version": "3.6.5"
  }
 },
 "nbformat": 4,
 "nbformat_minor": 2
}
