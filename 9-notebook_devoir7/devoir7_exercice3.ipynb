{
 "cells": [
  {
   "cell_type": "markdown",
   "metadata": {},
   "source": [
    "# Exercice 3"
   ]
  },
  {
   "cell_type": "code",
   "execution_count": 1,
   "metadata": {},
   "outputs": [],
   "source": [
    "import numpy as np"
   ]
  },
  {
   "cell_type": "code",
   "execution_count": 15,
   "metadata": {},
   "outputs": [],
   "source": [
    "b = 9.75\n",
    "S = 15.79\n",
    "masse = 1112\n",
    "m0 = 0.1033 *180/np.pi\n",
    "alfa_L0 = np.deg2rad(-3.)\n",
    "tau = 0.12\n",
    "g = 9.81\n",
    "rho = 1.23\n",
    "V = 193.0/3.6\n",
    "e = 0.64"
   ]
  },
  {
   "cell_type": "markdown",
   "metadata": {},
   "source": [
    "Allongement de l'aile"
   ]
  },
  {
   "cell_type": "code",
   "execution_count": null,
   "metadata": {},
   "outputs": [],
   "source": [
    "AR = b**2/S\n",
    "print('AR = {0:.1f}'.format(AR))"
   ]
  },
  {
   "cell_type": "markdown",
   "metadata": {},
   "source": [
    "La portance équilibre le poids"
   ]
  },
  {
   "cell_type": "code",
   "execution_count": 6,
   "metadata": {},
   "outputs": [
    {
     "name": "stdout",
     "output_type": "stream",
     "text": [
      "L = 10908.7\n"
     ]
    }
   ],
   "source": [
    "L = masse * g\n",
    "print('L = {0:.1f} N'.format(L))"
   ]
  },
  {
   "cell_type": "code",
   "execution_count": 10,
   "metadata": {},
   "outputs": [
    {
     "name": "stdout",
     "output_type": "stream",
     "text": [
      "CL = 0.391\n"
     ]
    }
   ],
   "source": [
    "CL = L / (0.5*rho*V**2*S)\n",
    "print('CL = {0:.3f}'.format(CL))"
   ]
  },
  {
   "cell_type": "code",
   "execution_count": 13,
   "metadata": {},
   "outputs": [
    {
     "name": "stdout",
     "output_type": "stream",
     "text": [
      "m = 4.383 [1/rad] = 0.076 [1/deg] \n"
     ]
    }
   ],
   "source": [
    "m = m0 / ( 1+m0 /(np.pi *AR) *(1+tau))\n",
    "print('m = {0:.3f} [1/rad] = {1:.3f} [1/deg] '.format(m,m*np.pi/180.))"
   ]
  },
  {
   "cell_type": "code",
   "execution_count": 14,
   "metadata": {},
   "outputs": [
    {
     "name": "stdout",
     "output_type": "stream",
     "text": [
      "alfa = 0.037 [rad] = 2.110 [deg] \n"
     ]
    }
   ],
   "source": [
    "alfa = CL/m + alfa_L0\n",
    "print('alfa = {0:.3f} [rad] = {1:.3f} [deg] '.format(alfa,np.rad2deg(alfa)))"
   ]
  },
  {
   "cell_type": "code",
   "execution_count": 16,
   "metadata": {},
   "outputs": [
    {
     "name": "stdout",
     "output_type": "stream",
     "text": [
      "CDi = 0.013 \n"
     ]
    }
   ],
   "source": [
    "CDi = CL**2/(np.pi * AR * e)\n",
    "print('CDi = {0:.3f} '.format(CDi))"
   ]
  },
  {
   "cell_type": "code",
   "execution_count": 17,
   "metadata": {},
   "outputs": [
    {
     "name": "stdout",
     "output_type": "stream",
     "text": [
      "Di = 352.2 N\n"
     ]
    }
   ],
   "source": [
    "Di = 0.5*rho*V**2*S *CDi\n",
    "print('Di = {0:.1f} N'.format(Di))"
   ]
  }
 ],
 "metadata": {
  "kernelspec": {
   "display_name": "Python 3",
   "language": "python",
   "name": "python3"
  },
  "language_info": {
   "codemirror_mode": {
    "name": "ipython",
    "version": 3
   },
   "file_extension": ".py",
   "mimetype": "text/x-python",
   "name": "python",
   "nbconvert_exporter": "python",
   "pygments_lexer": "ipython3",
   "version": "3.6.5"
  }
 },
 "nbformat": 4,
 "nbformat_minor": 2
}
