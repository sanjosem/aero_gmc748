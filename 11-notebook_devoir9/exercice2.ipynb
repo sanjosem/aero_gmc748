{
 "cells": [
  {
   "cell_type": "code",
   "execution_count": 1,
   "metadata": {},
   "outputs": [],
   "source": [
    "import numpy as np"
   ]
  },
  {
   "cell_type": "code",
   "execution_count": 2,
   "metadata": {},
   "outputs": [],
   "source": [
    "Vinf = 141.*1.609/3.6\n",
    "rho = 1.23\n",
    "mu = 1.79e-5\n",
    "b = 9.75\n",
    "c = 1.6"
   ]
  },
  {
   "cell_type": "code",
   "execution_count": 3,
   "metadata": {},
   "outputs": [
    {
     "name": "stdout",
     "output_type": "stream",
     "text": [
      "Rec = 6.928588e+06\n"
     ]
    }
   ],
   "source": [
    "Rec = rho * Vinf * c / mu\n",
    "print('Rec = {0:e}'.format(Rec))"
   ]
  },
  {
   "cell_type": "code",
   "execution_count": 4,
   "metadata": {},
   "outputs": [
    {
     "name": "stdout",
     "output_type": "stream",
     "text": [
      "Cd_lam = 1.009034e-03\n",
      "D_lam = 3.844596e+01\n"
     ]
    }
   ],
   "source": [
    "Cd_lam = 2*1.328*Rec**(-0.5)\n",
    "print('Cd_lam = {0:e}'.format(Cd_lam))\n",
    "D_lam = 0.5*rho*Vinf**2*Cd_lam * b * c\n",
    "print('D_lam = {0:e}'.format(D_lam))"
   ]
  },
  {
   "cell_type": "code",
   "execution_count": 5,
   "metadata": {},
   "outputs": [
    {
     "name": "stdout",
     "output_type": "stream",
     "text": [
      "Cd_turb = 6.169267e-03\n",
      "D_turb = 2.350599e+02\n"
     ]
    }
   ],
   "source": [
    "Cd_turb = 2*0.072*Rec**(-1/5)\n",
    "print('Cd_turb = {0:e}'.format(Cd_turb))\n",
    "D_turb = 0.5*rho*Vinf**2*Cd_turb * b * c\n",
    "print('D_turb = {0:e}'.format(D_turb))"
   ]
  },
  {
   "cell_type": "code",
   "execution_count": 6,
   "metadata": {},
   "outputs": [
    {
     "name": "stdout",
     "output_type": "stream",
     "text": [
      "XT = 0.289\n",
      "D_lam1 = 2.065586e+01\n",
      "D_turb2 = 1.480664e+02\n",
      "D = 1.687223e+02\n"
     ]
    }
   ],
   "source": [
    "ReT = 2.e6\n",
    "XT = ReT / Rec\n",
    "print('XT = {0:.3f}'.format(XT))\n",
    "Cd_lam1 = 2*1.328*ReT**(-0.5)\n",
    "D_lam1 = 0.5*rho*Vinf**2*Cd_lam1 * b * c *  XT\n",
    "Cd_turb1 = 2*0.072*ReT**(-1/5)\n",
    "Cd_turbT = 2*0.072*Rec**(-1/5)\n",
    "D_turb2 = 0.5*rho*Vinf**2*Cd_turbT * b * c - 0.5*rho*Vinf**2*Cd_turb1 * b * c *  XT\n",
    "print('D_lam1 = {0:e}'.format(D_lam1))\n",
    "print('D_turb2 = {0:e}'.format(D_turb2))\n",
    "print('D = {0:e}'.format(D_lam1+D_turb2))"
   ]
  },
  {
   "cell_type": "code",
   "execution_count": 7,
   "metadata": {},
   "outputs": [
    {
     "data": {
      "text/plain": [
       "178.30550520302148"
      ]
     },
     "execution_count": 7,
     "metadata": {},
     "output_type": "execute_result"
    }
   ],
   "source": [
    "D_lam * XT + D_turb * (1-XT)"
   ]
  },
  {
   "cell_type": "markdown",
   "metadata": {},
   "source": [
    "### En prenant l'expression de l'exercice 1\n",
    "avec la valeur `coeff_enonce = 0.0086` on obtient pour le Piper Cheerokee : $C_{D,v}=5.112 \\times 10^{-3}$"
   ]
  },
  {
   "cell_type": "code",
   "execution_count": 8,
   "metadata": {},
   "outputs": [
    {
     "data": {
      "text/plain": [
       "194.79431956266214"
      ]
     },
     "execution_count": 8,
     "metadata": {},
     "output_type": "execute_result"
    }
   ],
   "source": [
    "0.5*rho * Vinf**2 * 0.00511247576224692 * b * c"
   ]
  }
 ],
 "metadata": {
  "kernelspec": {
   "display_name": "Python 3",
   "language": "python",
   "name": "python3"
  },
  "language_info": {
   "codemirror_mode": {
    "name": "ipython",
    "version": 3
   },
   "file_extension": ".py",
   "mimetype": "text/x-python",
   "name": "python",
   "nbconvert_exporter": "python",
   "pygments_lexer": "ipython3",
   "version": "3.6.5"
  }
 },
 "nbformat": 4,
 "nbformat_minor": 2
}
